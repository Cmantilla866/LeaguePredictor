{
  "nbformat": 4,
  "nbformat_minor": 0,
  "metadata": {
    "colab": {
      "name": "DataAnalysis.ipynb",
      "version": "0.3.2",
      "provenance": [],
      "collapsed_sections": [],
      "include_colab_link": true
    },
    "kernelspec": {
      "name": "python3",
      "display_name": "Python 3"
    }
  },
  "cells": [
    {
      "cell_type": "markdown",
      "metadata": {
        "id": "view-in-github",
        "colab_type": "text"
      },
      "source": [
        "<a href=\"https://colab.research.google.com/github/Cmantilla866/LeaguePredictor/blob/master/DataAnalysis.ipynb\" target=\"_parent\"><img src=\"https://colab.research.google.com/assets/colab-badge.svg\" alt=\"Open In Colab\"/></a>"
      ]
    },
    {
      "cell_type": "code",
      "metadata": {
        "id": "5XXjzPzwd6VB",
        "colab_type": "code",
        "colab": {}
      },
      "source": [
        "# main libraries\n",
        "import pandas as pd\n",
        "import numpy as np\n",
        "import time\n",
        "# visual libraries\n",
        "from matplotlib import pyplot as plt\n",
        "import seaborn as sns\n",
        "from mpl_toolkits.mplot3d import Axes3D \n",
        "plt.style.use('ggplot')\n",
        "# sklearn libraries\n",
        "from sklearn.neighbors import KNeighborsClassifier\n",
        "from sklearn.model_selection import train_test_split\n",
        "from sklearn.preprocessing import normalize\n",
        "from sklearn.metrics import confusion_matrix,accuracy_score,precision_score,recall_score,f1_score,matthews_corrcoef,classification_report,roc_curve,roc_auc_score\n",
        "from sklearn.externals import joblib\n",
        "from sklearn.preprocessing import StandardScaler\n",
        "from sklearn.preprocessing import MinMaxScaler\n",
        "from sklearn.decomposition import PCA\n",
        "%matplotlib inline"
      ],
      "execution_count": 0,
      "outputs": []
    },
    {
      "cell_type": "code",
      "metadata": {
        "id": "MQ36_g1kezoN",
        "colab_type": "code",
        "colab": {}
      },
      "source": [
        "teams = pd.read_csv('Teams.csv')\n",
        "games = pd.read_csv('Games.csv')"
      ],
      "execution_count": 0,
      "outputs": []
    },
    {
      "cell_type": "code",
      "metadata": {
        "id": "wON7R0VRh8RJ",
        "colab_type": "code",
        "colab": {
          "base_uri": "https://localhost:8080/",
          "height": 301
        },
        "outputId": "c3c3a889-c81d-41b2-e119-d620a6facf09"
      },
      "source": [
        "teams.head()"
      ],
      "execution_count": 190,
      "outputs": [
        {
          "output_type": "execute_result",
          "data": {
            "text/html": [
              "<div>\n",
              "<style scoped>\n",
              "    .dataframe tbody tr th:only-of-type {\n",
              "        vertical-align: middle;\n",
              "    }\n",
              "\n",
              "    .dataframe tbody tr th {\n",
              "        vertical-align: top;\n",
              "    }\n",
              "\n",
              "    .dataframe thead th {\n",
              "        text-align: right;\n",
              "    }\n",
              "</style>\n",
              "<table border=\"1\" class=\"dataframe\">\n",
              "  <thead>\n",
              "    <tr style=\"text-align: right;\">\n",
              "      <th></th>\n",
              "      <th>Name</th>\n",
              "      <th>Win Rate</th>\n",
              "      <th>Kd</th>\n",
              "      <th>Gpm</th>\n",
              "      <th>Gdm</th>\n",
              "      <th>Kills Game</th>\n",
              "      <th>Deaths Game</th>\n",
              "      <th>Towers Killed</th>\n",
              "      <th>Towers Lost</th>\n",
              "      <th>Fb</th>\n",
              "      <th>Ft</th>\n",
              "      <th>Drapg</th>\n",
              "      <th>Dra</th>\n",
              "      <th>Herpg</th>\n",
              "      <th>Her</th>\n",
              "      <th>Dra 15</th>\n",
              "      <th>Td 15</th>\n",
              "      <th>Gd 15</th>\n",
              "      <th>Nash Pg</th>\n",
              "      <th>Nash</th>\n",
              "      <th>Csm</th>\n",
              "      <th>Dpm</th>\n",
              "      <th>Wpm</th>\n",
              "      <th>Vwpm</th>\n",
              "      <th>Wcpm</th>\n",
              "    </tr>\n",
              "  </thead>\n",
              "  <tbody>\n",
              "    <tr>\n",
              "      <th>0</th>\n",
              "      <td>CNB e-Sports Club</td>\n",
              "      <td>50.0</td>\n",
              "      <td>0.90</td>\n",
              "      <td>1767</td>\n",
              "      <td>-33</td>\n",
              "      <td>10.5</td>\n",
              "      <td>11.7</td>\n",
              "      <td>6.2</td>\n",
              "      <td>7.1</td>\n",
              "      <td>55.0</td>\n",
              "      <td>50.0</td>\n",
              "      <td>2.30</td>\n",
              "      <td>47.9</td>\n",
              "      <td>0.60</td>\n",
              "      <td>60.0</td>\n",
              "      <td>1.10</td>\n",
              "      <td>0.3</td>\n",
              "      <td>311</td>\n",
              "      <td>0.80</td>\n",
              "      <td>47.5</td>\n",
              "      <td>32.6</td>\n",
              "      <td>1741</td>\n",
              "      <td>3.5</td>\n",
              "      <td>1.48</td>\n",
              "      <td>1.45</td>\n",
              "    </tr>\n",
              "    <tr>\n",
              "      <th>1</th>\n",
              "      <td>Flamengo eSports</td>\n",
              "      <td>95.0</td>\n",
              "      <td>1.77</td>\n",
              "      <td>1912</td>\n",
              "      <td>256</td>\n",
              "      <td>15.2</td>\n",
              "      <td>8.5</td>\n",
              "      <td>9.5</td>\n",
              "      <td>2.6</td>\n",
              "      <td>75.0</td>\n",
              "      <td>80.0</td>\n",
              "      <td>3.40</td>\n",
              "      <td>77.8</td>\n",
              "      <td>0.75</td>\n",
              "      <td>75.0</td>\n",
              "      <td>1.35</td>\n",
              "      <td>0.6</td>\n",
              "      <td>1707</td>\n",
              "      <td>1.15</td>\n",
              "      <td>89.5</td>\n",
              "      <td>33.6</td>\n",
              "      <td>1919</td>\n",
              "      <td>3.8</td>\n",
              "      <td>1.35</td>\n",
              "      <td>1.43</td>\n",
              "    </tr>\n",
              "    <tr>\n",
              "      <th>2</th>\n",
              "      <td>INTZ eSports</td>\n",
              "      <td>65.0</td>\n",
              "      <td>1.33</td>\n",
              "      <td>1848</td>\n",
              "      <td>94</td>\n",
              "      <td>13.4</td>\n",
              "      <td>10.1</td>\n",
              "      <td>7.4</td>\n",
              "      <td>5.9</td>\n",
              "      <td>60.0</td>\n",
              "      <td>75.0</td>\n",
              "      <td>2.15</td>\n",
              "      <td>51.7</td>\n",
              "      <td>0.55</td>\n",
              "      <td>57.9</td>\n",
              "      <td>1.00</td>\n",
              "      <td>0.5</td>\n",
              "      <td>937</td>\n",
              "      <td>0.85</td>\n",
              "      <td>50.0</td>\n",
              "      <td>33.0</td>\n",
              "      <td>1769</td>\n",
              "      <td>3.4</td>\n",
              "      <td>1.44</td>\n",
              "      <td>1.39</td>\n",
              "    </tr>\n",
              "    <tr>\n",
              "      <th>3</th>\n",
              "      <td>KaBuM! e-Sports</td>\n",
              "      <td>40.0</td>\n",
              "      <td>0.82</td>\n",
              "      <td>1780</td>\n",
              "      <td>-51</td>\n",
              "      <td>12.0</td>\n",
              "      <td>14.7</td>\n",
              "      <td>6.3</td>\n",
              "      <td>6.9</td>\n",
              "      <td>40.0</td>\n",
              "      <td>50.0</td>\n",
              "      <td>2.35</td>\n",
              "      <td>45.8</td>\n",
              "      <td>0.50</td>\n",
              "      <td>50.0</td>\n",
              "      <td>0.60</td>\n",
              "      <td>0.1</td>\n",
              "      <td>-324</td>\n",
              "      <td>0.60</td>\n",
              "      <td>33.3</td>\n",
              "      <td>32.8</td>\n",
              "      <td>1932</td>\n",
              "      <td>3.5</td>\n",
              "      <td>1.48</td>\n",
              "      <td>1.36</td>\n",
              "    </tr>\n",
              "    <tr>\n",
              "      <th>4</th>\n",
              "      <td>ProGaming eSports</td>\n",
              "      <td>10.0</td>\n",
              "      <td>0.60</td>\n",
              "      <td>1637</td>\n",
              "      <td>-263</td>\n",
              "      <td>7.6</td>\n",
              "      <td>12.6</td>\n",
              "      <td>2.8</td>\n",
              "      <td>9.4</td>\n",
              "      <td>50.0</td>\n",
              "      <td>15.0</td>\n",
              "      <td>0.65</td>\n",
              "      <td>15.6</td>\n",
              "      <td>0.30</td>\n",
              "      <td>30.0</td>\n",
              "      <td>0.25</td>\n",
              "      <td>-1.2</td>\n",
              "      <td>-2523</td>\n",
              "      <td>0.20</td>\n",
              "      <td>11.4</td>\n",
              "      <td>31.7</td>\n",
              "      <td>1509</td>\n",
              "      <td>3.4</td>\n",
              "      <td>1.40</td>\n",
              "      <td>1.19</td>\n",
              "    </tr>\n",
              "  </tbody>\n",
              "</table>\n",
              "</div>"
            ],
            "text/plain": [
              "                Name  Win Rate    Kd   Gpm  Gdm  ...   Csm   Dpm  Wpm  Vwpm  Wcpm\n",
              "0  CNB e-Sports Club      50.0  0.90  1767  -33  ...  32.6  1741  3.5  1.48  1.45\n",
              "1   Flamengo eSports      95.0  1.77  1912  256  ...  33.6  1919  3.8  1.35  1.43\n",
              "2       INTZ eSports      65.0  1.33  1848   94  ...  33.0  1769  3.4  1.44  1.39\n",
              "3    KaBuM! e-Sports      40.0  0.82  1780  -51  ...  32.8  1932  3.5  1.48  1.36\n",
              "4  ProGaming eSports      10.0  0.60  1637 -263  ...  31.7  1509  3.4  1.40  1.19\n",
              "\n",
              "[5 rows x 25 columns]"
            ]
          },
          "metadata": {
            "tags": []
          },
          "execution_count": 190
        }
      ]
    },
    {
      "cell_type": "code",
      "metadata": {
        "id": "mKAT_kt8iDSR",
        "colab_type": "code",
        "colab": {
          "base_uri": "https://localhost:8080/",
          "height": 197
        },
        "outputId": "aaf12dda-bc8e-41d6-9ff6-98f08d8d2952"
      },
      "source": [
        "games.head()"
      ],
      "execution_count": 191,
      "outputs": [
        {
          "output_type": "execute_result",
          "data": {
            "text/html": [
              "<div>\n",
              "<style scoped>\n",
              "    .dataframe tbody tr th:only-of-type {\n",
              "        vertical-align: middle;\n",
              "    }\n",
              "\n",
              "    .dataframe tbody tr th {\n",
              "        vertical-align: top;\n",
              "    }\n",
              "\n",
              "    .dataframe thead th {\n",
              "        text-align: right;\n",
              "    }\n",
              "</style>\n",
              "<table border=\"1\" class=\"dataframe\">\n",
              "  <thead>\n",
              "    <tr style=\"text-align: right;\">\n",
              "      <th></th>\n",
              "      <th>Blue Side</th>\n",
              "      <th>Score</th>\n",
              "      <th>Red Side</th>\n",
              "    </tr>\n",
              "  </thead>\n",
              "  <tbody>\n",
              "    <tr>\n",
              "      <th>0</th>\n",
              "      <td>Vivo Keyd</td>\n",
              "      <td>1</td>\n",
              "      <td>Flamengo eSports</td>\n",
              "    </tr>\n",
              "    <tr>\n",
              "      <th>1</th>\n",
              "      <td>CNB e-Sports Club</td>\n",
              "      <td>0</td>\n",
              "      <td>ProGaming eSports</td>\n",
              "    </tr>\n",
              "    <tr>\n",
              "      <th>2</th>\n",
              "      <td>Redemption POA</td>\n",
              "      <td>1</td>\n",
              "      <td>Uppercut eSports</td>\n",
              "    </tr>\n",
              "    <tr>\n",
              "      <th>3</th>\n",
              "      <td>KaBuM! e-Sports</td>\n",
              "      <td>1</td>\n",
              "      <td>INTZ eSports</td>\n",
              "    </tr>\n",
              "    <tr>\n",
              "      <th>4</th>\n",
              "      <td>ProGaming eSports</td>\n",
              "      <td>1</td>\n",
              "      <td>Vivo Keyd</td>\n",
              "    </tr>\n",
              "  </tbody>\n",
              "</table>\n",
              "</div>"
            ],
            "text/plain": [
              "           Blue Side  Score           Red Side\n",
              "0          Vivo Keyd      1   Flamengo eSports\n",
              "1  CNB e-Sports Club      0  ProGaming eSports\n",
              "2     Redemption POA      1   Uppercut eSports\n",
              "3    KaBuM! e-Sports      1       INTZ eSports\n",
              "4  ProGaming eSports      1          Vivo Keyd"
            ]
          },
          "metadata": {
            "tags": []
          },
          "execution_count": 191
        }
      ]
    },
    {
      "cell_type": "code",
      "metadata": {
        "id": "t1CazvhuiSfU",
        "colab_type": "code",
        "colab": {}
      },
      "source": [
        "df1 = pd.merge(games, teams, how='inner', left_on = 'Red Side', right_on = 'Name')\n",
        "df = pd.merge(teams,df1,how='inner',left_on='Name',right_on='Blue Side')\n",
        "df.to_csv('dataframe.csv')"
      ],
      "execution_count": 0,
      "outputs": []
    },
    {
      "cell_type": "code",
      "metadata": {
        "id": "T2rSJaY4xVro",
        "colab_type": "code",
        "colab": {
          "base_uri": "https://localhost:8080/",
          "height": 35
        },
        "outputId": "54a0a818-5581-4189-df7b-d4f539dbd9c3"
      },
      "source": [
        "frame = pd.read_csv('dataframe.csv')\n",
        "df.isnull().values.any()"
      ],
      "execution_count": 193,
      "outputs": [
        {
          "output_type": "execute_result",
          "data": {
            "text/plain": [
              "False"
            ]
          },
          "metadata": {
            "tags": []
          },
          "execution_count": 193
        }
      ]
    },
    {
      "cell_type": "code",
      "metadata": {
        "id": "IFOFRkMc3101",
        "colab_type": "code",
        "colab": {}
      },
      "source": [
        "frame =  frame.drop(['Unnamed: 0','Name_x','Name_y'],axis=1)"
      ],
      "execution_count": 0,
      "outputs": []
    },
    {
      "cell_type": "code",
      "metadata": {
        "id": "2gPv4lapdG-2",
        "colab_type": "code",
        "colab": {}
      },
      "source": [
        "aparte1 = frame[['Blue Side','Red Side','Score']]\n",
        "frame = frame.drop(['Blue Side','Red Side','Score'],axis=1)"
      ],
      "execution_count": 0,
      "outputs": []
    },
    {
      "cell_type": "code",
      "metadata": {
        "id": "XmiYkHQ9d0x9",
        "colab_type": "code",
        "colab": {}
      },
      "source": [
        "std = StandardScaler()\n",
        "f = std.fit_transform(frame)"
      ],
      "execution_count": 0,
      "outputs": []
    },
    {
      "cell_type": "code",
      "metadata": {
        "id": "0kvoBzJ1fPg7",
        "colab_type": "code",
        "colab": {}
      },
      "source": [
        "frame = pd.DataFrame(f,columns=frame.columns.values)"
      ],
      "execution_count": 0,
      "outputs": []
    },
    {
      "cell_type": "code",
      "metadata": {
        "id": "-YuIthfVe3xp",
        "colab_type": "code",
        "colab": {}
      },
      "source": [
        "frame = pd.concat([aparte1,frame], axis = 1)\n"
      ],
      "execution_count": 0,
      "outputs": []
    },
    {
      "cell_type": "code",
      "metadata": {
        "id": "NnL0TvOChYBh",
        "colab_type": "code",
        "colab": {
          "base_uri": "https://localhost:8080/",
          "height": 493
        },
        "outputId": "927eff2b-c4e4-4507-920e-aeb60954cc80"
      },
      "source": [
        "frame.head()"
      ],
      "execution_count": 199,
      "outputs": [
        {
          "output_type": "execute_result",
          "data": {
            "text/html": [
              "<div>\n",
              "<style scoped>\n",
              "    .dataframe tbody tr th:only-of-type {\n",
              "        vertical-align: middle;\n",
              "    }\n",
              "\n",
              "    .dataframe tbody tr th {\n",
              "        vertical-align: top;\n",
              "    }\n",
              "\n",
              "    .dataframe thead th {\n",
              "        text-align: right;\n",
              "    }\n",
              "</style>\n",
              "<table border=\"1\" class=\"dataframe\">\n",
              "  <thead>\n",
              "    <tr style=\"text-align: right;\">\n",
              "      <th></th>\n",
              "      <th>Blue Side</th>\n",
              "      <th>Red Side</th>\n",
              "      <th>Score</th>\n",
              "      <th>Win Rate_x</th>\n",
              "      <th>Kd_x</th>\n",
              "      <th>Gpm_x</th>\n",
              "      <th>Gdm_x</th>\n",
              "      <th>Kills Game_x</th>\n",
              "      <th>Deaths Game_x</th>\n",
              "      <th>Towers Killed_x</th>\n",
              "      <th>Towers Lost_x</th>\n",
              "      <th>Fb_x</th>\n",
              "      <th>Ft_x</th>\n",
              "      <th>Drapg_x</th>\n",
              "      <th>Dra_x</th>\n",
              "      <th>Herpg_x</th>\n",
              "      <th>Her_x</th>\n",
              "      <th>Dra 15_x</th>\n",
              "      <th>Td 15_x</th>\n",
              "      <th>Gd 15_x</th>\n",
              "      <th>Nash Pg_x</th>\n",
              "      <th>Nash_x</th>\n",
              "      <th>Csm_x</th>\n",
              "      <th>Dpm_x</th>\n",
              "      <th>Wpm_x</th>\n",
              "      <th>Vwpm_x</th>\n",
              "      <th>Wcpm_x</th>\n",
              "      <th>Win Rate_y</th>\n",
              "      <th>Kd_y</th>\n",
              "      <th>Gpm_y</th>\n",
              "      <th>Gdm_y</th>\n",
              "      <th>Kills Game_y</th>\n",
              "      <th>Deaths Game_y</th>\n",
              "      <th>Towers Killed_y</th>\n",
              "      <th>Towers Lost_y</th>\n",
              "      <th>Fb_y</th>\n",
              "      <th>Ft_y</th>\n",
              "      <th>Drapg_y</th>\n",
              "      <th>Dra_y</th>\n",
              "      <th>Herpg_y</th>\n",
              "      <th>Her_y</th>\n",
              "      <th>Dra 15_y</th>\n",
              "      <th>Td 15_y</th>\n",
              "      <th>Gd 15_y</th>\n",
              "      <th>Nash Pg_y</th>\n",
              "      <th>Nash_y</th>\n",
              "      <th>Csm_y</th>\n",
              "      <th>Dpm_y</th>\n",
              "      <th>Wpm_y</th>\n",
              "      <th>Vwpm_y</th>\n",
              "      <th>Wcpm_y</th>\n",
              "    </tr>\n",
              "  </thead>\n",
              "  <tbody>\n",
              "    <tr>\n",
              "      <th>0</th>\n",
              "      <td>CNB e-Sports Club</td>\n",
              "      <td>Flamengo eSports</td>\n",
              "      <td>1</td>\n",
              "      <td>-0.032187</td>\n",
              "      <td>-0.435957</td>\n",
              "      <td>-0.249499</td>\n",
              "      <td>-0.205633</td>\n",
              "      <td>-0.546914</td>\n",
              "      <td>-0.057469</td>\n",
              "      <td>0.063128</td>\n",
              "      <td>0.621802</td>\n",
              "      <td>0.387579</td>\n",
              "      <td>-0.045728</td>\n",
              "      <td>0.357956</td>\n",
              "      <td>-0.164243</td>\n",
              "      <td>0.759235</td>\n",
              "      <td>0.681649</td>\n",
              "      <td>1.34414</td>\n",
              "      <td>0.423073</td>\n",
              "      <td>0.176662</td>\n",
              "      <td>0.416415</td>\n",
              "      <td>-0.140279</td>\n",
              "      <td>-0.028721</td>\n",
              "      <td>-0.202246</td>\n",
              "      <td>0.483915</td>\n",
              "      <td>1.140994</td>\n",
              "      <td>0.513479</td>\n",
              "      <td>1.892252</td>\n",
              "      <td>1.445868</td>\n",
              "      <td>1.103814</td>\n",
              "      <td>1.234623</td>\n",
              "      <td>1.081210</td>\n",
              "      <td>-1.130132</td>\n",
              "      <td>1.804138</td>\n",
              "      <td>-1.702418</td>\n",
              "      <td>1.822431</td>\n",
              "      <td>1.507893</td>\n",
              "      <td>2.245748</td>\n",
              "      <td>1.781478</td>\n",
              "      <td>1.782021</td>\n",
              "      <td>1.708798</td>\n",
              "      <td>2.363488</td>\n",
              "      <td>0.823528</td>\n",
              "      <td>1.016666</td>\n",
              "      <td>1.693888</td>\n",
              "      <td>1.897849</td>\n",
              "      <td>0.551203</td>\n",
              "      <td>0.712939</td>\n",
              "      <td>1.330955</td>\n",
              "      <td>0.344283</td>\n",
              "      <td>0.405850</td>\n",
              "    </tr>\n",
              "    <tr>\n",
              "      <th>1</th>\n",
              "      <td>CNB e-Sports Club</td>\n",
              "      <td>ProGaming eSports</td>\n",
              "      <td>0</td>\n",
              "      <td>-0.032187</td>\n",
              "      <td>-0.435957</td>\n",
              "      <td>-0.249499</td>\n",
              "      <td>-0.205633</td>\n",
              "      <td>-0.546914</td>\n",
              "      <td>-0.057469</td>\n",
              "      <td>0.063128</td>\n",
              "      <td>0.621802</td>\n",
              "      <td>0.387579</td>\n",
              "      <td>-0.045728</td>\n",
              "      <td>0.357956</td>\n",
              "      <td>-0.164243</td>\n",
              "      <td>0.759235</td>\n",
              "      <td>0.681649</td>\n",
              "      <td>1.34414</td>\n",
              "      <td>0.423073</td>\n",
              "      <td>0.176662</td>\n",
              "      <td>0.416415</td>\n",
              "      <td>-0.140279</td>\n",
              "      <td>-0.028721</td>\n",
              "      <td>-0.202246</td>\n",
              "      <td>0.483915</td>\n",
              "      <td>1.140994</td>\n",
              "      <td>0.513479</td>\n",
              "      <td>-1.931182</td>\n",
              "      <td>-1.170158</td>\n",
              "      <td>-1.617174</td>\n",
              "      <td>-1.505603</td>\n",
              "      <td>-1.600080</td>\n",
              "      <td>0.362896</td>\n",
              "      <td>-1.894972</td>\n",
              "      <td>1.937427</td>\n",
              "      <td>-0.008019</td>\n",
              "      <td>-1.928735</td>\n",
              "      <td>-2.615497</td>\n",
              "      <td>-2.456961</td>\n",
              "      <td>-1.411777</td>\n",
              "      <td>-1.455395</td>\n",
              "      <td>-2.213881</td>\n",
              "      <td>-1.927022</td>\n",
              "      <td>-1.718478</td>\n",
              "      <td>-2.090012</td>\n",
              "      <td>-2.091056</td>\n",
              "      <td>-0.647653</td>\n",
              "      <td>-1.448985</td>\n",
              "      <td>0.209026</td>\n",
              "      <td>0.652926</td>\n",
              "      <td>-0.888965</td>\n",
              "    </tr>\n",
              "    <tr>\n",
              "      <th>2</th>\n",
              "      <td>CNB e-Sports Club</td>\n",
              "      <td>ProGaming eSports</td>\n",
              "      <td>1</td>\n",
              "      <td>-0.032187</td>\n",
              "      <td>-0.435957</td>\n",
              "      <td>-0.249499</td>\n",
              "      <td>-0.205633</td>\n",
              "      <td>-0.546914</td>\n",
              "      <td>-0.057469</td>\n",
              "      <td>0.063128</td>\n",
              "      <td>0.621802</td>\n",
              "      <td>0.387579</td>\n",
              "      <td>-0.045728</td>\n",
              "      <td>0.357956</td>\n",
              "      <td>-0.164243</td>\n",
              "      <td>0.759235</td>\n",
              "      <td>0.681649</td>\n",
              "      <td>1.34414</td>\n",
              "      <td>0.423073</td>\n",
              "      <td>0.176662</td>\n",
              "      <td>0.416415</td>\n",
              "      <td>-0.140279</td>\n",
              "      <td>-0.028721</td>\n",
              "      <td>-0.202246</td>\n",
              "      <td>0.483915</td>\n",
              "      <td>1.140994</td>\n",
              "      <td>0.513479</td>\n",
              "      <td>-1.931182</td>\n",
              "      <td>-1.170158</td>\n",
              "      <td>-1.617174</td>\n",
              "      <td>-1.505603</td>\n",
              "      <td>-1.600080</td>\n",
              "      <td>0.362896</td>\n",
              "      <td>-1.894972</td>\n",
              "      <td>1.937427</td>\n",
              "      <td>-0.008019</td>\n",
              "      <td>-1.928735</td>\n",
              "      <td>-2.615497</td>\n",
              "      <td>-2.456961</td>\n",
              "      <td>-1.411777</td>\n",
              "      <td>-1.455395</td>\n",
              "      <td>-2.213881</td>\n",
              "      <td>-1.927022</td>\n",
              "      <td>-1.718478</td>\n",
              "      <td>-2.090012</td>\n",
              "      <td>-2.091056</td>\n",
              "      <td>-0.647653</td>\n",
              "      <td>-1.448985</td>\n",
              "      <td>0.209026</td>\n",
              "      <td>0.652926</td>\n",
              "      <td>-0.888965</td>\n",
              "    </tr>\n",
              "    <tr>\n",
              "      <th>3</th>\n",
              "      <td>CNB e-Sports Club</td>\n",
              "      <td>Uppercut eSports</td>\n",
              "      <td>0</td>\n",
              "      <td>-0.032187</td>\n",
              "      <td>-0.435957</td>\n",
              "      <td>-0.249499</td>\n",
              "      <td>-0.205633</td>\n",
              "      <td>-0.546914</td>\n",
              "      <td>-0.057469</td>\n",
              "      <td>0.063128</td>\n",
              "      <td>0.621802</td>\n",
              "      <td>0.387579</td>\n",
              "      <td>-0.045728</td>\n",
              "      <td>0.357956</td>\n",
              "      <td>-0.164243</td>\n",
              "      <td>0.759235</td>\n",
              "      <td>0.681649</td>\n",
              "      <td>1.34414</td>\n",
              "      <td>0.423073</td>\n",
              "      <td>0.176662</td>\n",
              "      <td>0.416415</td>\n",
              "      <td>-0.140279</td>\n",
              "      <td>-0.028721</td>\n",
              "      <td>-0.202246</td>\n",
              "      <td>0.483915</td>\n",
              "      <td>1.140994</td>\n",
              "      <td>0.513479</td>\n",
              "      <td>-0.356827</td>\n",
              "      <td>-0.432304</td>\n",
              "      <td>0.045102</td>\n",
              "      <td>-0.000855</td>\n",
              "      <td>-0.329995</td>\n",
              "      <td>0.144404</td>\n",
              "      <td>-0.073023</td>\n",
              "      <td>0.171032</td>\n",
              "      <td>-1.106289</td>\n",
              "      <td>0.186113</td>\n",
              "      <td>0.478022</td>\n",
              "      <td>0.520849</td>\n",
              "      <td>-1.056910</td>\n",
              "      <td>-1.103818</td>\n",
              "      <td>0.074803</td>\n",
              "      <td>0.365103</td>\n",
              "      <td>0.007960</td>\n",
              "      <td>0.698125</td>\n",
              "      <td>0.283900</td>\n",
              "      <td>0.298813</td>\n",
              "      <td>-0.383842</td>\n",
              "      <td>-0.351938</td>\n",
              "      <td>-0.396459</td>\n",
              "      <td>-0.079706</td>\n",
              "    </tr>\n",
              "    <tr>\n",
              "      <th>4</th>\n",
              "      <td>CNB e-Sports Club</td>\n",
              "      <td>Uppercut eSports</td>\n",
              "      <td>1</td>\n",
              "      <td>-0.032187</td>\n",
              "      <td>-0.435957</td>\n",
              "      <td>-0.249499</td>\n",
              "      <td>-0.205633</td>\n",
              "      <td>-0.546914</td>\n",
              "      <td>-0.057469</td>\n",
              "      <td>0.063128</td>\n",
              "      <td>0.621802</td>\n",
              "      <td>0.387579</td>\n",
              "      <td>-0.045728</td>\n",
              "      <td>0.357956</td>\n",
              "      <td>-0.164243</td>\n",
              "      <td>0.759235</td>\n",
              "      <td>0.681649</td>\n",
              "      <td>1.34414</td>\n",
              "      <td>0.423073</td>\n",
              "      <td>0.176662</td>\n",
              "      <td>0.416415</td>\n",
              "      <td>-0.140279</td>\n",
              "      <td>-0.028721</td>\n",
              "      <td>-0.202246</td>\n",
              "      <td>0.483915</td>\n",
              "      <td>1.140994</td>\n",
              "      <td>0.513479</td>\n",
              "      <td>-0.356827</td>\n",
              "      <td>-0.432304</td>\n",
              "      <td>0.045102</td>\n",
              "      <td>-0.000855</td>\n",
              "      <td>-0.329995</td>\n",
              "      <td>0.144404</td>\n",
              "      <td>-0.073023</td>\n",
              "      <td>0.171032</td>\n",
              "      <td>-1.106289</td>\n",
              "      <td>0.186113</td>\n",
              "      <td>0.478022</td>\n",
              "      <td>0.520849</td>\n",
              "      <td>-1.056910</td>\n",
              "      <td>-1.103818</td>\n",
              "      <td>0.074803</td>\n",
              "      <td>0.365103</td>\n",
              "      <td>0.007960</td>\n",
              "      <td>0.698125</td>\n",
              "      <td>0.283900</td>\n",
              "      <td>0.298813</td>\n",
              "      <td>-0.383842</td>\n",
              "      <td>-0.351938</td>\n",
              "      <td>-0.396459</td>\n",
              "      <td>-0.079706</td>\n",
              "    </tr>\n",
              "  </tbody>\n",
              "</table>\n",
              "</div>"
            ],
            "text/plain": [
              "           Blue Side           Red Side  Score  ...     Wpm_y    Vwpm_y    Wcpm_y\n",
              "0  CNB e-Sports Club   Flamengo eSports      1  ...  1.330955  0.344283  0.405850\n",
              "1  CNB e-Sports Club  ProGaming eSports      0  ...  0.209026  0.652926 -0.888965\n",
              "2  CNB e-Sports Club  ProGaming eSports      1  ...  0.209026  0.652926 -0.888965\n",
              "3  CNB e-Sports Club   Uppercut eSports      0  ... -0.351938 -0.396459 -0.079706\n",
              "4  CNB e-Sports Club   Uppercut eSports      1  ... -0.351938 -0.396459 -0.079706\n",
              "\n",
              "[5 rows x 51 columns]"
            ]
          },
          "metadata": {
            "tags": []
          },
          "execution_count": 199
        }
      ]
    },
    {
      "cell_type": "code",
      "metadata": {
        "id": "Mk48nsDniLgB",
        "colab_type": "code",
        "colab": {}
      },
      "source": [
        "frame = pd.get_dummies(frame, columns=['Blue Side', 'Red Side'])"
      ],
      "execution_count": 0,
      "outputs": []
    },
    {
      "cell_type": "code",
      "metadata": {
        "id": "xl-IuP8rjonJ",
        "colab_type": "code",
        "colab": {}
      },
      "source": [
        "train_x, test_x, train_y, test_y = train_test_split(frame.drop('Score', axis=1), frame['Score'], test_size=0.2, random_state=42)"
      ],
      "execution_count": 0,
      "outputs": []
    },
    {
      "cell_type": "code",
      "metadata": {
        "id": "F0BMeszgkvon",
        "colab_type": "code",
        "colab": {
          "base_uri": "https://localhost:8080/",
          "height": 200
        },
        "outputId": "23765cc5-c1a8-44dc-e70e-5572728e94c1"
      },
      "source": [
        "from sklearn.ensemble import RandomForestClassifier\n",
        "\n",
        "model = RandomForestClassifier(random_state=13)\n",
        "model.fit(train_x, train_y)"
      ],
      "execution_count": 202,
      "outputs": [
        {
          "output_type": "stream",
          "text": [
            "/usr/local/lib/python3.6/dist-packages/sklearn/ensemble/forest.py:245: FutureWarning: The default value of n_estimators will change from 10 in version 0.20 to 100 in 0.22.\n",
            "  \"10 in version 0.20 to 100 in 0.22.\", FutureWarning)\n"
          ],
          "name": "stderr"
        },
        {
          "output_type": "execute_result",
          "data": {
            "text/plain": [
              "RandomForestClassifier(bootstrap=True, class_weight=None, criterion='gini',\n",
              "                       max_depth=None, max_features='auto', max_leaf_nodes=None,\n",
              "                       min_impurity_decrease=0.0, min_impurity_split=None,\n",
              "                       min_samples_leaf=1, min_samples_split=2,\n",
              "                       min_weight_fraction_leaf=0.0, n_estimators=10,\n",
              "                       n_jobs=None, oob_score=False, random_state=13, verbose=0,\n",
              "                       warm_start=False)"
            ]
          },
          "metadata": {
            "tags": []
          },
          "execution_count": 202
        }
      ]
    },
    {
      "cell_type": "code",
      "metadata": {
        "id": "ZkMwn8WXlG4u",
        "colab_type": "code",
        "colab": {
          "base_uri": "https://localhost:8080/",
          "height": 35
        },
        "outputId": "f5dea329-16e6-4b78-9e39-d0299220ee25"
      },
      "source": [
        "predicted = model.predict(test_x)\n",
        "model.score(test_x, test_y)"
      ],
      "execution_count": 203,
      "outputs": [
        {
          "output_type": "execute_result",
          "data": {
            "text/plain": [
              "0.7738095238095238"
            ]
          },
          "metadata": {
            "tags": []
          },
          "execution_count": 203
        }
      ]
    },
    {
      "cell_type": "code",
      "metadata": {
        "id": "OlFAr1ZmloIn",
        "colab_type": "code",
        "colab": {}
      },
      "source": [
        "probabilities = model.predict_proba(test_x)"
      ],
      "execution_count": 0,
      "outputs": []
    },
    {
      "cell_type": "code",
      "metadata": {
        "id": "V_djvmd6lqPH",
        "colab_type": "code",
        "colab": {
          "base_uri": "https://localhost:8080/",
          "height": 35
        },
        "outputId": "93fa5d57-205e-4da2-a1e6-f597adce8364"
      },
      "source": [
        "roc_auc_score(test_y, probabilities[:, 1])"
      ],
      "execution_count": 205,
      "outputs": [
        {
          "output_type": "execute_result",
          "data": {
            "text/plain": [
              "0.8698620395391836"
            ]
          },
          "metadata": {
            "tags": []
          },
          "execution_count": 205
        }
      ]
    },
    {
      "cell_type": "code",
      "metadata": {
        "id": "AJivtVV-l9tG",
        "colab_type": "code",
        "colab": {
          "base_uri": "https://localhost:8080/",
          "height": 53
        },
        "outputId": "736db970-4faf-445f-97e2-30adb96efc6b"
      },
      "source": [
        "confusion_matrix(test_y, predicted)"
      ],
      "execution_count": 206,
      "outputs": [
        {
          "output_type": "execute_result",
          "data": {
            "text/plain": [
              "array([[68, 11],\n",
              "       [27, 62]])"
            ]
          },
          "metadata": {
            "tags": []
          },
          "execution_count": 206
        }
      ]
    },
    {
      "cell_type": "code",
      "metadata": {
        "id": "rqfUmywfmG5F",
        "colab_type": "code",
        "colab": {
          "base_uri": "https://localhost:8080/",
          "height": 35
        },
        "outputId": "6c325e7e-2131-4c56-be5e-4212fa6cdf7b"
      },
      "source": [
        "train_predictions = model.predict(train_x)\n",
        "precision_score(train_y, train_predictions)"
      ],
      "execution_count": 207,
      "outputs": [
        {
          "output_type": "execute_result",
          "data": {
            "text/plain": [
              "0.9745222929936306"
            ]
          },
          "metadata": {
            "tags": []
          },
          "execution_count": 207
        }
      ]
    },
    {
      "cell_type": "code",
      "metadata": {
        "id": "eHnQj_z-mM6X",
        "colab_type": "code",
        "colab": {
          "base_uri": "https://localhost:8080/",
          "height": 35
        },
        "outputId": "69ab7dc2-4552-4448-f136-05204e32c78b"
      },
      "source": [
        "recall_score(train_y, train_predictions)"
      ],
      "execution_count": 208,
      "outputs": [
        {
          "output_type": "execute_result",
          "data": {
            "text/plain": [
              "0.9776357827476039"
            ]
          },
          "metadata": {
            "tags": []
          },
          "execution_count": 208
        }
      ]
    },
    {
      "cell_type": "code",
      "metadata": {
        "id": "0Yn37V4Zmj4C",
        "colab_type": "code",
        "colab": {
          "base_uri": "https://localhost:8080/",
          "height": 90
        },
        "outputId": "1b4960c9-df2b-4e5b-ee87-5f05204a3f00"
      },
      "source": [
        "from sklearn import svm\n",
        "clf = svm.SVC(gamma='scale')\n",
        "clf.fit(train_x, train_y)  "
      ],
      "execution_count": 209,
      "outputs": [
        {
          "output_type": "execute_result",
          "data": {
            "text/plain": [
              "SVC(C=1.0, cache_size=200, class_weight=None, coef0=0.0,\n",
              "    decision_function_shape='ovr', degree=3, gamma='scale', kernel='rbf',\n",
              "    max_iter=-1, probability=False, random_state=None, shrinking=True,\n",
              "    tol=0.001, verbose=False)"
            ]
          },
          "metadata": {
            "tags": []
          },
          "execution_count": 209
        }
      ]
    },
    {
      "cell_type": "code",
      "metadata": {
        "id": "MFgvH3t2msP1",
        "colab_type": "code",
        "colab": {
          "base_uri": "https://localhost:8080/",
          "height": 35
        },
        "outputId": "29ad2b08-6cbc-4133-db3d-4a2aecd6f60d"
      },
      "source": [
        "predicted = clf.predict(test_x)\n",
        "clf.score(test_x, test_y)"
      ],
      "execution_count": 210,
      "outputs": [
        {
          "output_type": "execute_result",
          "data": {
            "text/plain": [
              "0.7380952380952381"
            ]
          },
          "metadata": {
            "tags": []
          },
          "execution_count": 210
        }
      ]
    },
    {
      "cell_type": "code",
      "metadata": {
        "id": "DRG-IfgXod0y",
        "colab_type": "code",
        "colab": {
          "base_uri": "https://localhost:8080/",
          "height": 72
        },
        "outputId": "4768dacc-b454-4393-fc78-94cb4ac296bb"
      },
      "source": [
        "from sklearn.neighbors import KNeighborsClassifier\n",
        "neigh = KNeighborsClassifier(n_neighbors=3)\n",
        "neigh.fit(train_x, train_y)"
      ],
      "execution_count": 211,
      "outputs": [
        {
          "output_type": "execute_result",
          "data": {
            "text/plain": [
              "KNeighborsClassifier(algorithm='auto', leaf_size=30, metric='minkowski',\n",
              "                     metric_params=None, n_jobs=None, n_neighbors=3, p=2,\n",
              "                     weights='uniform')"
            ]
          },
          "metadata": {
            "tags": []
          },
          "execution_count": 211
        }
      ]
    },
    {
      "cell_type": "code",
      "metadata": {
        "id": "IbB2_6lSom37",
        "colab_type": "code",
        "colab": {
          "base_uri": "https://localhost:8080/",
          "height": 35
        },
        "outputId": "1aeb8a6e-9c8e-4f88-ccc0-7abe55ab7f17"
      },
      "source": [
        "predicted = neigh.predict(test_x)\n",
        "clf.score(test_x, test_y)"
      ],
      "execution_count": 212,
      "outputs": [
        {
          "output_type": "execute_result",
          "data": {
            "text/plain": [
              "0.7380952380952381"
            ]
          },
          "metadata": {
            "tags": []
          },
          "execution_count": 212
        }
      ]
    },
    {
      "cell_type": "code",
      "metadata": {
        "id": "wZV6xqM0ozJB",
        "colab_type": "code",
        "colab": {
          "base_uri": "https://localhost:8080/",
          "height": 35
        },
        "outputId": "5d51491f-4b8f-488f-cbd4-29e1c131b770"
      },
      "source": [
        "probabilities = neigh.predict_proba(test_x)\n",
        "roc_auc_score(test_y, probabilities[:, 1])"
      ],
      "execution_count": 213,
      "outputs": [
        {
          "output_type": "execute_result",
          "data": {
            "text/plain": [
              "0.8197980372635472"
            ]
          },
          "metadata": {
            "tags": []
          },
          "execution_count": 213
        }
      ]
    },
    {
      "cell_type": "code",
      "metadata": {
        "id": "93uBJmpspBb7",
        "colab_type": "code",
        "colab": {
          "base_uri": "https://localhost:8080/",
          "height": 53
        },
        "outputId": "99404e44-768d-470c-923b-45603084dbee"
      },
      "source": [
        "confusion_matrix(test_y, predicted)"
      ],
      "execution_count": 214,
      "outputs": [
        {
          "output_type": "execute_result",
          "data": {
            "text/plain": [
              "array([[64, 15],\n",
              "       [28, 61]])"
            ]
          },
          "metadata": {
            "tags": []
          },
          "execution_count": 214
        }
      ]
    },
    {
      "cell_type": "code",
      "metadata": {
        "id": "PMnLbBcCtAPH",
        "colab_type": "code",
        "colab": {
          "base_uri": "https://localhost:8080/",
          "height": 35
        },
        "outputId": "22f40c4e-28d0-463b-ce67-6a3a8ae0b5e0"
      },
      "source": [
        "joblib.dump(model,'modelo.pkl')"
      ],
      "execution_count": 216,
      "outputs": [
        {
          "output_type": "execute_result",
          "data": {
            "text/plain": [
              "['modelo.pkl']"
            ]
          },
          "metadata": {
            "tags": []
          },
          "execution_count": 216
        }
      ]
    }
  ]
}